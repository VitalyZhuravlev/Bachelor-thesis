{
 "cells": [
  {
   "cell_type": "code",
   "execution_count": null,
   "metadata": {
    "collapsed": true
   },
   "outputs": [],
   "source": [
    "from math import *\n",
    "from scipy import integrate\n",
    "import matplotlib.pyplot as plt\n",
    "from matplotlib import mlab"
   ]
  },
  {
   "cell_type": "code",
   "execution_count": null,
   "metadata": {
    "collapsed": true
   },
   "outputs": [],
   "source": [
    "def integral(t):\n",
    "\n",
    "    value = 0\n",
    "    \n",
    "    if t <= sqrt(2):\n",
    "        return value\n",
    "      \n",
    "    f = lambda x: (2*log(x) - log(2)) / (x*x)\n",
    "    if t <= 2:\n",
    "        value += integrate.quad(f, sqrt(2), t)[0]\n",
    "        return value\n",
    "    else:\n",
    "        value += integrate.quad(f, sqrt(2), 2)[0]\n",
    "\n",
    "    f = lambda x: (4*log(x) - 3*log(2)) / (x*x)\n",
    "    if t <= 4:\n",
    "        value += integrate.quad(f, 2, t)[0]\n",
    "        return value\n",
    "    else:\n",
    "        value += integrate.quad(f, 2, 4)[0]\n",
    "\n",
    "    f = lambda x: (2*log(x) - 4*log(1 + sqrt(1 - 4/x)) + log(2)) / (x*x)\n",
    "    if t <= 2*sqrt(2) + 2:\n",
    "        value += integrate.quad(f, 4, t)[0]\n",
    "        return value\n",
    "    else:\n",
    "        value += integrate.quad(f, 4, 2*sqrt(2) + 2)[0]\n",
    "\n",
    "    f = lambda x: (2*log(x) - log(2)) / (x*x)\n",
    "    if t <= 8:\n",
    "        value += integrate.quad(f, 2*sqrt(2) + 2, t)[0]\n",
    "        return value\n",
    "    else:\n",
    "        value += integrate.quad(f, 2*sqrt(2) + 2, 8)[0]\n",
    "\n",
    "    f = lambda x: (11*log(2) - 2*log(x) - 8*log(1 + sqrt(1 - 8/x))) / (x*x)\n",
    "    if t <= 3*sqrt(2) + 4:\n",
    "        value += integrate.quad(f, 8, t)[0]\n",
    "        return value\n",
    "    else:\n",
    "        value += integrate.quad(f, 8, 3*sqrt(2) + 4)[0]\n",
    "\n",
    "    f = lambda x: (4*log(2) - 4*log(1 + sqrt(1 - 8/x))) / (x*x)\n",
    "    value += integrate.quad(f, 3*sqrt(2) + 4, t)[0]\n",
    "    return value\n",
    "        "
   ]
  },
  {
   "cell_type": "code",
   "execution_count": null,
   "metadata": {
    "collapsed": true
   },
   "outputs": [],
   "source": [
    "def fractions(q):\n",
    "    \n",
    "    a = [(0, 1), (1, 0)]\n",
    "    \n",
    "    for m in range(1, ceil(sqrt(2*q))):\n",
    "        for n in range(1, m):\n",
    "            if (m*m + n*n <= q) and (gcd(n, m) == 1):\n",
    "                a.append(((m*m - n*n)/(m*m + n*n), 2*m*n/(m*m + n*n)))\n",
    "            elif (m*m + n*n > q) and (m*m + n*n <= 2*q) and (m % 2 == 1) and (n % 2 == 1) and (gcd(n, m) == 1): \n",
    "                a.append(((m*m - n*n)/(m*m + n*n), 2*m*n/(m*m + n*n)))\n",
    "\n",
    "    return len(a)\n",
    "\n",
    "def arcs(t, q):\n",
    "    \n",
    "    a = [(0, 1), (1, 0)]\n",
    "    \n",
    "    for m in range(1, ceil(sqrt(2*q))):\n",
    "        for n in range(1, m):\n",
    "            if (m*m + n*n <= q) and (gcd(n, m) == 1):\n",
    "                a.append(((m*m - n*n)/(m*m + n*n), 2*m*n/(m*m + n*n)))\n",
    "            elif (m*m + n*n > q) and (m*m + n*n <= 2*q) and (m % 2 == 1) and (n % 2 == 1) and (gcd(n, m) == 1): \n",
    "                a.append(((m*m - n*n)/(m*m + n*n), 2*m*n/(m*m + n*n)))\n",
    "\n",
    "    phi = []\n",
    "    for i in range(1, len(a)):\n",
    "        phi.append(atan(a[i][1]/a[i][0]))\n",
    "    phi.sort()\n",
    "    phi.append(pi/2)\n",
    "\n",
    "    z = []\n",
    "    for i in range(len(phi) - 1):\n",
    "        z.append(phi[i+1] - phi[i])\n",
    "\n",
    "    number = 0;\n",
    "    for elem in z:\n",
    "        if elem <= t/q:\n",
    "            number += 1\n",
    "    \n",
    "    return number"
   ]
  },
  {
   "cell_type": "code",
   "execution_count": null,
   "metadata": {
    "collapsed": true,
    "scrolled": false
   },
   "outputs": [],
   "source": [
    "def density(x):\n",
    "    if x >= 0 and x <= sqrt(2):\n",
    "        return 0\n",
    "    if x >= sqrt(2) and x <= 2:\n",
    "        return (2*log(x) - log(2)) / (x*x)\n",
    "    if x >= 2 and x <= 4:\n",
    "        return (4*log(x) - 3*log(2)) / (x*x)\n",
    "    if x >= 4 and x <= 2*sqrt(2) + 2:\n",
    "        return (2*log(x) - 4*log(1 + sqrt(1 - 4/x)) + log(2)) / (x*x)\n",
    "    if x >= 2*sqrt(2) + 2 and x <= 8:\n",
    "        return (2*log(x) - log(2)) / (x*x)\n",
    "    if x >= 8 and x <= 3*sqrt(2) + 4:\n",
    "        return (11*log(2) - 2*log(x) - 8*log(1 + sqrt(1 - 8/x))) / (x*x)\n",
    "    if x >= 3*sqrt(2) + 4:\n",
    "        return (4*log(2) - 4*log(1 + sqrt(1 - 8/x))) / (x*x)\n",
    "    \n",
    "# Интервал изменения переменной по оси X\n",
    "xmin = 0\n",
    "xmax = 16\n",
    "\n",
    "# Шаг между точками\n",
    "dx = 0.01\n",
    "\n",
    "# Создадим список координат по оси X на отрезке [-xmin; xmax]\n",
    "xlist = mlab.frange (xmin, xmax, dx)\n",
    "\n",
    "# Вычислим значение функции в заданных точках\n",
    "ylist = [density(x) for x in xlist]\n",
    "\n",
    "plt.figure(figsize = (8, 6))\n",
    "#plt.title('Плотность', fontsize = 16)\n",
    "plt.xlabel('v', fontsize = 16)\n",
    "plt.ylabel('h(v)', fontsize = 16)\n",
    "plt.tick_params(labelsize = 14)\n",
    "plt.grid(True)\n",
    "plt.plot (xlist, ylist)\n",
    "\n",
    "plt.show()"
   ]
  },
  {
   "cell_type": "code",
   "execution_count": null,
   "metadata": {},
   "outputs": [],
   "source": [
    "t = 7\n",
    "\n",
    "res = integral(t)\n",
    "print(res)"
   ]
  },
  {
   "cell_type": "code",
   "execution_count": null,
   "metadata": {},
   "outputs": [],
   "source": [
    "# Интервал изменения переменной по оси X\n",
    "xmin = 500\n",
    "xmax = 1000\n",
    "\n",
    "# Шаг между точками\n",
    "dx = 1\n",
    "\n",
    "# Создадим список координат по оси X на отрезке [-xmin; xmax]\n",
    "xlist = mlab.frange (xmin, xmax, dx)\n",
    "\n",
    "# Вычислим значение функции в заданных точках\n",
    "ylist = [arcs(t, x) for x in xlist]\n",
    "\n",
    "plt.figure(figsize=(12, 8))\n",
    "plt.xlabel('Q', fontsize = 16)\n",
    "#plt.title('Кол-во дуг, удовлетворяющих условию')\n",
    "\n",
    "plt.tick_params(labelsize = 14)\n",
    "plt.grid(True)\n",
    "plt.plot (xlist, ylist)\n",
    "\n",
    "plt.show()"
   ]
  },
  {
   "cell_type": "code",
   "execution_count": null,
   "metadata": {},
   "outputs": [],
   "source": [
    "# Интервал изменения переменной по оси X\n",
    "xmin = 3\n",
    "xmax = 600\n",
    "\n",
    "# Шаг между точками\n",
    "dx = 1\n",
    "\n",
    "# Создадим список координат по оси X на отрезке [-xmin; xmax]\n",
    "xlist = mlab.frange (xmin, xmax, dx)\n",
    "\n",
    "# Вычислим значение функции в заданных точках\n",
    "ylist = [fractions(x) * res for x in xlist]\n",
    "\n",
    "plt.figure(figsize=(12, 8))\n",
    "plt.xlabel('Q', fontsize = 16)\n",
    "#plt.title('Кол-во точек * Интеграл')\n",
    "\n",
    "plt.tick_params(labelsize = 14)\n",
    "plt.grid(True)\n",
    "plt.plot (xlist, ylist)\n",
    "\n",
    "plt.show()"
   ]
  },
  {
   "cell_type": "code",
   "execution_count": null,
   "metadata": {
    "collapsed": true
   },
   "outputs": [],
   "source": [
    "print('t =', t)\n",
    "\n",
    "# Интервал изменения переменной по оси X\n",
    "xmin = 1000000\n",
    "xmax = 2200000\n",
    "\n",
    "# Шаг между точками\n",
    "dx = 25000\n",
    "\n",
    "# Создадим список координат по оси X на отрезке [-xmin; xmax]\n",
    "xlist = mlab.frange (xmin, xmax, dx)\n",
    "\n",
    "# Вычислим значение функции в заданных точках\n",
    "#ylist = [(arcs(t, x)-fractions(x)*res) / (pow(x, 5/6) * pow(log(x), 4/3)) for x in xlist]\n",
    "#ylist = [(arcs(t, x)-fractions(x)*res) / (pow(x, 5/6)) for x in xlist]\n",
    "ylist = [(arcs(t, x)-fractions(x)*res) / (sqrt(x)) for x in xlist]\n",
    "\n",
    "plt.figure(figsize=(14, 8))\n",
    "plt.xlabel('Q', fontsize = 16)\n",
    "#plt.title('Разность / Q^(1/2)')\n",
    "\n",
    "#plt.grid(True)\n",
    "plt.tick_params(labelsize = 14)\n",
    "plt.plot (xlist, ylist)\n",
    "\n",
    "plt.axhline(0, color='gray')\n",
    "#plt.axvline(0, color='gray')\n",
    "\n",
    "plt.show()"
   ]
  },
  {
   "cell_type": "code",
   "execution_count": null,
   "metadata": {},
   "outputs": [],
   "source": [
    "q = 1000000\n",
    "\n",
    "num = fractions(q)\n",
    "print(num)"
   ]
  },
  {
   "cell_type": "code",
   "execution_count": null,
   "metadata": {},
   "outputs": [],
   "source": [
    "print('q =', q)\n",
    "\n",
    "# Интервал изменения переменной по оси X\n",
    "xmin = 1\n",
    "xmax = 17\n",
    "\n",
    "# Шаг между точками\n",
    "dx = 0.1\n",
    "\n",
    "# Создадим список координат по оси X на отрезке [-xmin; xmax]\n",
    "xlist = mlab.frange (xmin, xmax, dx)\n",
    "\n",
    "# Вычислим значение функции в заданных точках\n",
    "ylist = [(arcs(x, q)-num*integral(x)) / sqrt(q) for x in xlist]\n",
    "\n",
    "plt.figure(figsize=(14, 9))\n",
    "plt.xlabel('t', fontsize = 16)\n",
    "#plt.title('Разность / Q^(1/2)')\n",
    "\n",
    "plt.tick_params(labelsize = 14)\n",
    "plt.grid(True)\n",
    "plt.plot (xlist, ylist)\n",
    "\n",
    "plt.axhline(0, color='gray')\n",
    "#plt.axvline(0, color='gray')\n",
    "\n",
    "plt.show()"
   ]
  },
  {
   "cell_type": "code",
   "execution_count": null,
   "metadata": {
    "collapsed": true
   },
   "outputs": [],
   "source": [
    "for i in range(len(xlist)):\n",
    "    print(xlist[i], ' \\t ', ylist[i])"
   ]
  },
  {
   "cell_type": "code",
   "execution_count": null,
   "metadata": {
    "collapsed": true
   },
   "outputs": [],
   "source": [
    "f = lambda x: (4*log(2) - 4*log(1 + sqrt(1 - 8/x))) / (x*x)\n",
    "value = integrate.quad(f, 3*sqrt(2) + 4, 200000)[0]\n",
    "print(value)"
   ]
  },
  {
   "cell_type": "code",
   "execution_count": null,
   "metadata": {
    "collapsed": true
   },
   "outputs": [],
   "source": [
    "q = 1000\n",
    "\n",
    "a = [(0, 1), (1, 0)]\n",
    "    \n",
    "for m in range(1, ceil(sqrt(2*q))):\n",
    "    for n in range(1, m):\n",
    "        if (m*m + n*n <= q) and (gcd(n, m) == 1):\n",
    "            a.append(((m*m - n*n)/(m*m + n*n), 2*m*n/(m*m + n*n)))\n",
    "        elif (m*m + n*n > q) and (m*m + n*n <= 2*q) and (m % 2 == 1) and (n % 2 == 1) and (gcd(n, m) == 1): \n",
    "            a.append(((m*m - n*n)/(m*m + n*n), 2*m*n/(m*m + n*n)))\n",
    "\n",
    "xlist = [a[i][0] for i in range(len(a))]\n",
    "ylist = [a[i][1] for i in range(len(a))]\n",
    "\n",
    "plt.figure(figsize=(7, 7))\n",
    "plt.tick_params(labelsize = 14)\n",
    "plt.grid(True)\n",
    "plt.scatter (xlist, ylist, s = 20)\n",
    "\n",
    "plt.axhline(0, color='black')\n",
    "plt.axvline(0, color='black')\n",
    "\n",
    "plt.show()"
   ]
  },
  {
   "cell_type": "code",
   "execution_count": null,
   "metadata": {},
   "outputs": [],
   "source": [
    "# Интервал изменения переменной по оси X\n",
    "xmin = 3\n",
    "xmax = 1000\n",
    "\n",
    "# Шаг между точками\n",
    "dx = 1\n",
    "\n",
    "# Создадим список координат по оси X на отрезке [-xmin; xmax]\n",
    "xlist = mlab.frange (xmin, xmax, dx)\n",
    "\n",
    "# Вычислим значение функции в заданных точках\n",
    "ylist = [pi * fractions(x) / x for x in xlist]\n",
    "\n",
    "plt.figure(figsize=(12, 8))\n",
    "plt.xlabel('Q', fontsize = 16)\n",
    "#plt.title('Кол-во точек * Интеграл')\n",
    "\n",
    "plt.tick_params(labelsize = 14)\n",
    "plt.grid(True)\n",
    "plt.plot (xlist, ylist)\n",
    "\n",
    "plt.show()"
   ]
  },
  {
   "cell_type": "code",
   "execution_count": null,
   "metadata": {
    "collapsed": true
   },
   "outputs": [],
   "source": []
  }
 ],
 "metadata": {
  "kernelspec": {
   "display_name": "Python 3",
   "language": "python",
   "name": "python3"
  },
  "language_info": {
   "codemirror_mode": {
    "name": "ipython",
    "version": 3
   },
   "file_extension": ".py",
   "mimetype": "text/x-python",
   "name": "python",
   "nbconvert_exporter": "python",
   "pygments_lexer": "ipython3",
   "version": "3.6.3"
  }
 },
 "nbformat": 4,
 "nbformat_minor": 2
}
